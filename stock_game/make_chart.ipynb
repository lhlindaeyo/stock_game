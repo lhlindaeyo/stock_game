{
  "nbformat": 4,
  "nbformat_minor": 0,
  "metadata": {
    "colab": {
      "provenance": []
    },
    "kernelspec": {
      "name": "python3",
      "display_name": "Python 3"
    },
    "language_info": {
      "name": "python"
    }
  },
  "cells": [
    {
      "cell_type": "code",
      "execution_count": null,
      "metadata": {
        "id": "9_iCRsrxAaKB"
      },
      "outputs": [],
      "source": [
        "import yfinance as yf\n",
        "import pandas as pd"
      ]
    },
    {
      "cell_type": "code",
      "source": [
        "tickers = [\"AAPL\", \"GOOGL\", \"MSFT\", \"AMZN\", \"META\",\n",
        "    \"TSLA\", \"NVDA\", \"TSMC\", \"GLDM\", \"NOW\",\n",
        "    \"QQQM\", \"SPLG\", \"IONQ\", \"RGTI\", \"OKLO\",\n",
        "    \"PLTR\", \"MRNA\", \"ZOOM\", \"GE\", \"WMT\"]"
      ],
      "metadata": {
        "id": "KbsAV__FAiDZ"
      },
      "execution_count": null,
      "outputs": []
    },
    {
      "cell_type": "code",
      "source": [
        "start = '2018-10-01'\n",
        "end = '2025-04-30'"
      ],
      "metadata": {
        "id": "xpJLWJscAjqH"
      },
      "execution_count": null,
      "outputs": []
    },
    {
      "cell_type": "code",
      "source": [
        "import certifi\n",
        "import os\n",
        "\n",
        "os.environ['SSL_CERT_FILE'] = certifi.where()\n",
        "\n",
        "import yfinance as yf\n",
        "import pandas as pd\n",
        "\n",
        "tickers = [\"AAPL\", \"GOOGL\", \"MSFT\", \"AMZN\", \"META\",\n",
        "    \"TSLA\", \"NVDA\", \"AVGO\", \"GLDM\", \"NOW\",\n",
        "    \"QQQM\", \"SPLG\", \"IONQ\", \"RGTI\", \"OKLO\",\n",
        "    \"PLTR\", \"MRNA\", \"NFLX\", \"GE\", \"WMT\"]\n",
        "\n",
        "start = '2018-10-01'\n",
        "end = '2025-04-30'\n",
        "\n",
        "\n",
        "all_data = {}\n",
        "\n",
        "for ticker in tickers:\n",
        "    data = yf.download(ticker, start=start, end=end, interval='1mo', progress=False)\n",
        "    if not data.empty and 'Close' in data.columns:\n",
        "        all_data[ticker] = data['Close']\n",
        "\n",
        "result = pd.DataFrame(all_data)\n",
        "\n",
        "if isinstance(result.index, pd.DatetimeIndex):\n",
        "    result = result.loc[(result.index >= pd.to_datetime(start)) & (result.index <= pd.to_datetime(end))]\n",
        "\n",
        "result.to_csv('us_stock.csv')"
      ],
      "metadata": {
        "id": "moN00TZwAkyj"
      },
      "execution_count": null,
      "outputs": []
    },
    {
      "cell_type": "code",
      "source": [],
      "metadata": {
        "id": "MoH-Ct9xAmX9"
      },
      "execution_count": null,
      "outputs": []
    }
  ]
}